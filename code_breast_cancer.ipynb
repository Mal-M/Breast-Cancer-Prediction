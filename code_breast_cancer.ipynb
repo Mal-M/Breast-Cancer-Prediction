{
 "cells": [
  {
   "cell_type": "markdown",
   "id": "e658d1eb",
   "metadata": {},
   "source": [
    "# Breast Cancer Prediction"
   ]
  },
  {
   "cell_type": "markdown",
   "id": "78945a0e",
   "metadata": {},
   "source": [
    "##### \n",
    "Breast cancer is the most common cancer amongst women in the world. It accounts for 25% of all cancer cases, and affected over 2.1 Million people in 2015 alone. It starts when cells in the breast begin to grow out of control. These cells usually form tumors that can be seen via X-ray or felt as lumps in the breast area.\n",
    "\n",
    "The key challenges against it’s detection is how to classify tumors into malignant (cancerous) or benign(non cancerous). "
   ]
  },
  {
   "cell_type": "code",
   "execution_count": 1,
   "id": "d5dbfa0e",
   "metadata": {},
   "outputs": [],
   "source": [
    "# import necessary libraries\n",
    "from sklearn import *\n",
    "import math\n",
    "import numpy as np\n",
    "import pandas as pd\n",
    "import matplotlib.pyplot as plt"
   ]
  },
  {
   "cell_type": "markdown",
   "id": "d1708d8a",
   "metadata": {},
   "source": [
    "# Load the data"
   ]
  },
  {
   "cell_type": "code",
   "execution_count": 2,
   "id": "871750ce",
   "metadata": {},
   "outputs": [],
   "source": [
    "original_data = pd.read_csv(\"breast-cancer.csv\")\n",
    "# print(original_data.head(5))"
   ]
  },
  {
   "cell_type": "code",
   "execution_count": 3,
   "id": "54e3fb26",
   "metadata": {},
   "outputs": [
    {
     "name": "stdout",
     "output_type": "stream",
     "text": [
      "569\n"
     ]
    }
   ],
   "source": [
    "data_copy = original_data.copy(deep=True)\n",
    "print(len(data_copy))\n",
    "# print(data_copy)"
   ]
  },
  {
   "cell_type": "markdown",
   "id": "2ef383da",
   "metadata": {},
   "source": [
    "### Check the data"
   ]
  },
  {
   "cell_type": "code",
   "execution_count": 4,
   "id": "899de5cb",
   "metadata": {},
   "outputs": [
    {
     "name": "stdout",
     "output_type": "stream",
     "text": [
      "['id', 'diagnosis', 'radius_mean', 'texture_mean', 'perimeter_mean', 'area_mean', 'smoothness_mean', 'compactness_mean', 'concavity_mean', 'concave points_mean', 'symmetry_mean', 'fractal_dimension_mean', 'radius_se', 'texture_se', 'perimeter_se', 'area_se', 'smoothness_se', 'compactness_se', 'concavity_se', 'concave points_se', 'symmetry_se', 'fractal_dimension_se', 'radius_worst', 'texture_worst', 'perimeter_worst', 'area_worst', 'smoothness_worst', 'compactness_worst', 'concavity_worst', 'concave points_worst', 'symmetry_worst', 'fractal_dimension_worst']\n"
     ]
    }
   ],
   "source": [
    "# check the data\n",
    "columns = list(data_copy.columns)\n",
    "print(columns)"
   ]
  },
  {
   "cell_type": "code",
   "execution_count": 5,
   "id": "9b695524",
   "metadata": {},
   "outputs": [
    {
     "data": {
      "text/plain": [
       "id                         0.0\n",
       "diagnosis                  0.0\n",
       "radius_mean                0.0\n",
       "texture_mean               0.0\n",
       "perimeter_mean             0.0\n",
       "area_mean                  0.0\n",
       "smoothness_mean            0.0\n",
       "compactness_mean           0.0\n",
       "concavity_mean             0.0\n",
       "concave points_mean        0.0\n",
       "symmetry_mean              0.0\n",
       "fractal_dimension_mean     0.0\n",
       "radius_se                  0.0\n",
       "texture_se                 0.0\n",
       "perimeter_se               0.0\n",
       "area_se                    0.0\n",
       "smoothness_se              0.0\n",
       "compactness_se             0.0\n",
       "concavity_se               0.0\n",
       "concave points_se          0.0\n",
       "symmetry_se                0.0\n",
       "fractal_dimension_se       0.0\n",
       "radius_worst               0.0\n",
       "texture_worst              0.0\n",
       "perimeter_worst            0.0\n",
       "area_worst                 0.0\n",
       "smoothness_worst           0.0\n",
       "compactness_worst          0.0\n",
       "concavity_worst            0.0\n",
       "concave points_worst       0.0\n",
       "symmetry_worst             0.0\n",
       "fractal_dimension_worst    0.0\n",
       "dtype: float64"
      ]
     },
     "execution_count": 5,
     "metadata": {},
     "output_type": "execute_result"
    }
   ],
   "source": [
    "#check the data on missing or NAN values\n",
    "\n",
    "data_copy.isnull().mean()\n",
    "#data_copy.dtypes"
   ]
  },
  {
   "cell_type": "markdown",
   "id": "82f3cf62",
   "metadata": {},
   "source": [
    "### Normalize the training data"
   ]
  },
  {
   "cell_type": "code",
   "execution_count": 6,
   "id": "106229da",
   "metadata": {},
   "outputs": [
    {
     "data": {
      "text/plain": [
       "B    357\n",
       "M    212\n",
       "Name: diagnosis, dtype: int64"
      ]
     },
     "execution_count": 6,
     "metadata": {},
     "output_type": "execute_result"
    }
   ],
   "source": [
    "x_features = data_copy.iloc[:,2:]\n",
    "# print(x_features)\n",
    "y_target = data_copy[\"diagnosis\"]\n",
    "# print(y_target.head(20))\n",
    "y_target.value_counts()"
   ]
  },
  {
   "cell_type": "code",
   "execution_count": 7,
   "id": "75ec5a63",
   "metadata": {},
   "outputs": [],
   "source": [
    "from sklearn.preprocessing import MinMaxScaler\n",
    "\n",
    "scaler = MinMaxScaler()\n",
    "scaled_data_array = scaler.fit_transform(x_features)\n",
    "# print(scaled_data_array)\n",
    "\n",
    "scaled_data = pd.DataFrame(scaled_data_array, columns=x_features.columns, index=x_features.index)\n",
    "# print(scaled_data)"
   ]
  },
  {
   "cell_type": "code",
   "execution_count": 8,
   "id": "99c8c2b5",
   "metadata": {},
   "outputs": [
    {
     "name": "stdout",
     "output_type": "stream",
     "text": [
      "0    357\n",
      "1    212\n",
      "Name: diagnosis, dtype: int64\n"
     ]
    }
   ],
   "source": [
    "# label target values\n",
    "y = y_target.replace({\"M\": 1, \"B\": 0})\n",
    "print(y.value_counts())"
   ]
  },
  {
   "cell_type": "markdown",
   "id": "60ab7f77",
   "metadata": {},
   "source": [
    "### Split the dataset into training set, validation set and test set (ratio: 70/20/10)\n",
    "\n",
    ">**random_state = some_number** guarantees, that every time we run the code, we will get the same output,\n",
    "which we made at the first time split."
   ]
  },
  {
   "cell_type": "code",
   "execution_count": 9,
   "id": "55cb8b96",
   "metadata": {},
   "outputs": [],
   "source": [
    "#we split the dataset using sklearn into 70-20-10\n",
    " \n",
    "X_train, X_test, y_train, y_test = model_selection.train_test_split(\n",
    "    scaled_data, y, test_size=0.2, random_state=1)\n",
    "X_train, X_val, y_train, y_val = model_selection.train_test_split(\n",
    "    X_train, y_train, test_size=0.1, random_state=1)\n",
    "\n",
    "X_train, X_val, y_train, y_val = np.asarray(X_train), np.asarray(X_val), np.asarray(y_train), np.asarray(y_val)\n",
    "X_test, y_test = np.asarray(X_test), np.asarray(y_test)\n"
   ]
  },
  {
   "cell_type": "code",
   "execution_count": 10,
   "id": "35296733",
   "metadata": {},
   "outputs": [
    {
     "name": "stdout",
     "output_type": "stream",
     "text": [
      "Training set: (X_train,y_train): (409, 409), \n",
      "Test set: (X_test, y_test): (114, 114)\n",
      "Validation set: (X_val, y_val): (46, 46)\n"
     ]
    }
   ],
   "source": [
    "print(f\"Training set: (X_train,y_train): {len(X_train),len(y_train)}, \\nTest set: (X_test, y_test): {len(X_test), len(y_test)}\")\n",
    "print(f\"Validation set: (X_val, y_val): {len(X_val), len(y_val)}\")"
   ]
  },
  {
   "cell_type": "code",
   "execution_count": 11,
   "id": "1595c591",
   "metadata": {},
   "outputs": [
    {
     "name": "stdout",
     "output_type": "stream",
     "text": [
      "X_train shape: (409, 30)\n",
      "y_train shape: (409,)\n",
      "X_val shape: (46, 30)\n",
      "y_val shape: (46,)\n",
      "X_test shape: (114, 30)\n",
      "y_test shape: (114,)\n"
     ]
    }
   ],
   "source": [
    "#check the shape of each set\n",
    "\n",
    "print(f\"X_train shape: {X_train.shape}\")\n",
    "print(f\"y_train shape: {y_train.shape}\")\n",
    "\n",
    "print(f\"X_val shape: {X_val.shape}\")\n",
    "print(f\"y_val shape: {y_val.shape}\")\n",
    "\n",
    "print(f\"X_test shape: {X_test.shape}\")\n",
    "print(f\"y_test shape: {y_test.shape}\")"
   ]
  },
  {
   "cell_type": "markdown",
   "id": "698afac7",
   "metadata": {},
   "source": [
    "### Creat logistic regression model (Sigmoid function)"
   ]
  },
  {
   "cell_type": "code",
   "execution_count": 12,
   "id": "94fff060",
   "metadata": {},
   "outputs": [],
   "source": [
    "#define logistic regression function\n",
    "\n",
    "def sigmoid_function(x, w, b):\n",
    "    f_wb = np.zeros(x.shape[0])\n",
    "    g_z = np.zeros(x.shape[0])\n",
    "    for i in range(len(x)):\n",
    "        f_wb[i] = np.dot(x[i], w) + b\n",
    "        g_z[i] = 1/(1 + math.e**(-f_wb[i]))\n",
    "    return g_z   \n",
    "    "
   ]
  },
  {
   "cell_type": "code",
   "execution_count": 13,
   "id": "d7e4e71f",
   "metadata": {},
   "outputs": [],
   "source": [
    "#check if sigmoid function is working\n",
    "w=np.zeros(X_train.shape[-1])\n",
    "b=0"
   ]
  },
  {
   "cell_type": "code",
   "execution_count": 14,
   "id": "652972f3",
   "metadata": {},
   "outputs": [
    {
     "name": "stdout",
     "output_type": "stream",
     "text": [
      "[0.5 0.5 0.5 0.5 0.5 0.5 0.5 0.5 0.5 0.5 0.5 0.5 0.5 0.5 0.5 0.5 0.5 0.5\n",
      " 0.5 0.5 0.5 0.5 0.5 0.5 0.5 0.5 0.5 0.5 0.5 0.5 0.5 0.5 0.5 0.5 0.5 0.5\n",
      " 0.5 0.5 0.5 0.5 0.5 0.5 0.5 0.5 0.5 0.5 0.5 0.5 0.5 0.5 0.5 0.5 0.5 0.5\n",
      " 0.5 0.5 0.5 0.5 0.5 0.5 0.5 0.5 0.5 0.5 0.5 0.5 0.5 0.5 0.5 0.5 0.5 0.5\n",
      " 0.5 0.5 0.5 0.5 0.5 0.5 0.5 0.5 0.5 0.5 0.5 0.5 0.5 0.5 0.5 0.5 0.5 0.5\n",
      " 0.5 0.5 0.5 0.5 0.5 0.5 0.5 0.5 0.5 0.5 0.5 0.5 0.5 0.5 0.5 0.5 0.5 0.5\n",
      " 0.5 0.5 0.5 0.5 0.5 0.5 0.5 0.5 0.5 0.5 0.5 0.5 0.5 0.5 0.5 0.5 0.5 0.5\n",
      " 0.5 0.5 0.5 0.5 0.5 0.5 0.5 0.5 0.5 0.5 0.5 0.5 0.5 0.5 0.5 0.5 0.5 0.5\n",
      " 0.5 0.5 0.5 0.5 0.5 0.5 0.5 0.5 0.5 0.5 0.5 0.5 0.5 0.5 0.5 0.5 0.5 0.5\n",
      " 0.5 0.5 0.5 0.5 0.5 0.5 0.5 0.5 0.5 0.5 0.5 0.5 0.5 0.5 0.5 0.5 0.5 0.5\n",
      " 0.5 0.5 0.5 0.5 0.5 0.5 0.5 0.5 0.5 0.5 0.5 0.5 0.5 0.5 0.5 0.5 0.5 0.5\n",
      " 0.5 0.5 0.5 0.5 0.5 0.5 0.5 0.5 0.5 0.5 0.5 0.5 0.5 0.5 0.5 0.5 0.5 0.5\n",
      " 0.5 0.5 0.5 0.5 0.5 0.5 0.5 0.5 0.5 0.5 0.5 0.5 0.5 0.5 0.5 0.5 0.5 0.5\n",
      " 0.5 0.5 0.5 0.5 0.5 0.5 0.5 0.5 0.5 0.5 0.5 0.5 0.5 0.5 0.5 0.5 0.5 0.5\n",
      " 0.5 0.5 0.5 0.5 0.5 0.5 0.5 0.5 0.5 0.5 0.5 0.5 0.5 0.5 0.5 0.5 0.5 0.5\n",
      " 0.5 0.5 0.5 0.5 0.5 0.5 0.5 0.5 0.5 0.5 0.5 0.5 0.5 0.5 0.5 0.5 0.5 0.5\n",
      " 0.5 0.5 0.5 0.5 0.5 0.5 0.5 0.5 0.5 0.5 0.5 0.5 0.5 0.5 0.5 0.5 0.5 0.5\n",
      " 0.5 0.5 0.5 0.5 0.5 0.5 0.5 0.5 0.5 0.5 0.5 0.5 0.5 0.5 0.5 0.5 0.5 0.5\n",
      " 0.5 0.5 0.5 0.5 0.5 0.5 0.5 0.5 0.5 0.5 0.5 0.5 0.5 0.5 0.5 0.5 0.5 0.5\n",
      " 0.5 0.5 0.5 0.5 0.5 0.5 0.5 0.5 0.5 0.5 0.5 0.5 0.5 0.5 0.5 0.5 0.5 0.5\n",
      " 0.5 0.5 0.5 0.5 0.5 0.5 0.5 0.5 0.5 0.5 0.5 0.5 0.5 0.5 0.5 0.5 0.5 0.5\n",
      " 0.5 0.5 0.5 0.5 0.5 0.5 0.5 0.5 0.5 0.5 0.5 0.5 0.5 0.5 0.5 0.5 0.5 0.5\n",
      " 0.5 0.5 0.5 0.5 0.5 0.5 0.5 0.5 0.5 0.5 0.5 0.5 0.5]\n"
     ]
    }
   ],
   "source": [
    "sigmoid_output = sigmoid_function(X_train, w, b)\n",
    "print(sigmoid_output)"
   ]
  },
  {
   "cell_type": "markdown",
   "id": "9883c6fd",
   "metadata": {},
   "source": [
    "### Cost function (Loss function)\n",
    "\n",
    ">**Loss** is the measure of the difference of a single example to its target value while                                \n",
    ">**Cost** is the measure of the losses over the training set"
   ]
  },
  {
   "cell_type": "code",
   "execution_count": 15,
   "id": "c40a0582",
   "metadata": {},
   "outputs": [],
   "source": [
    "#define cost function for logistic regression\n",
    "\n",
    "def cost_function_for_log_reg(x, y, w, b):\n",
    "    cost = 0\n",
    "    for i in range(len(x)):\n",
    "        sig = sigmoid_function(x, w, b)\n",
    "        \n",
    "        cost += (-y[i]*np.log(sig[i]) - ((1-y[i]) * np.log(1 - sig[i])))        \n",
    "        \n",
    "    cost = cost / (len(x))\n",
    "    \n",
    "    return cost   \n"
   ]
  },
  {
   "cell_type": "code",
   "execution_count": 16,
   "id": "5bf9df98",
   "metadata": {},
   "outputs": [
    {
     "name": "stdout",
     "output_type": "stream",
     "text": [
      "0.6931471805599467\n"
     ]
    }
   ],
   "source": [
    "#check the cost function output\n",
    "\n",
    "calculated_cost = cost_function_for_log_reg(X_train, y_train, w, b)\n",
    "print(calculated_cost)"
   ]
  },
  {
   "cell_type": "markdown",
   "id": "00d9cdf4",
   "metadata": {},
   "source": [
    "### Gradient descent"
   ]
  },
  {
   "cell_type": "code",
   "execution_count": 17,
   "id": "b6408709",
   "metadata": {},
   "outputs": [],
   "source": [
    "#first we should find derivative\n",
    "\n",
    "def deriv(x, y, w, b):\n",
    "    #dj_dw = 0   #np.ones(X_train.shape[-1])\n",
    "    #dj_db = 0\n",
    "    \n",
    "    m,n = x.shape\n",
    "    # print(m,n)\n",
    "    dj_dw = np.zeros((n,))\n",
    "    # print(dj_dw)\n",
    "    dj_db = 0\n",
    "    sig = sigmoid_function(x, w, b)\n",
    "\n",
    "    for i in range(m):\n",
    "        \n",
    "        f_wb_i = sig[i]\n",
    "        # print(f_wb_i)\n",
    "               \n",
    "        error_i = f_wb_i - y[i]\n",
    "        # print(y[i])\n",
    "        #print(error_i)\n",
    "       \n",
    "        \n",
    "        for j in range(n):\n",
    "            dj_dw[j] = dj_dw[j] + error_i * x[i,j]\n",
    "        \n",
    "        dj_db = dj_db + error_i       \n",
    "        # print(dj_db)\n",
    "        \n",
    "    dj_dw = dj_dw/m\n",
    "        \n",
    "    dj_db = dj_db/m\n",
    "    #print(dj_db)\n",
    "        \n",
    "        \n",
    "        \n",
    "    return dj_dw, dj_db  "
   ]
  },
  {
   "cell_type": "code",
   "execution_count": 18,
   "id": "335493ce",
   "metadata": {},
   "outputs": [
    {
     "name": "stdout",
     "output_type": "stream",
     "text": [
      "(array([-0.02124671,  0.00709476, -0.02331347, -0.0275776 ,  0.02580878,\n",
      "       -0.01724961, -0.04009128, -0.04478356,  0.02334593,  0.03387014,\n",
      "       -0.0151595 ,  0.02379354, -0.01442407, -0.015608  ,  0.02485249,\n",
      "       -0.00046433, -0.00087287,  0.00182179,  0.02264505,  0.0083248 ,\n",
      "       -0.03252147,  0.00628581, -0.03294828, -0.03218261,  0.01727912,\n",
      "       -0.01921326, -0.02943641, -0.04308985,  0.00755257,  0.00412534]), 0.11858190709046455)\n"
     ]
    }
   ],
   "source": [
    "#check deriv function\n",
    "\n",
    "calculated_deriv = deriv(X_train,y_train, w, b)\n",
    "print(calculated_deriv)"
   ]
  },
  {
   "cell_type": "code",
   "execution_count": 19,
   "id": "f5a57c2f",
   "metadata": {},
   "outputs": [],
   "source": [
    "import copy\n",
    "from tqdm import tqdm\n",
    "import time\n",
    "from IPython.display import display, clear_output\n",
    "\n",
    "\n",
    "def gradient_descent(x, y, w, b, iterations, x_val, y_val):\n",
    "    num_of_ittere = iterations\n",
    "    w = copy.deepcopy(calculated_deriv[0])  #avoid modifying global w within function\n",
    "    b = calculated_deriv[1]\n",
    "    alpha = 0.8\n",
    "    J_history = []\n",
    "    J_history_val = []\n",
    "    fig = plt.figure()\n",
    "    ax = fig.add_subplot(1, 1, 1) \n",
    "    for i in range(num_of_ittere):\n",
    "        \n",
    "        # Calculate the gradient and update the parameters\n",
    "        dj_dw, dj_db = deriv(x, y, w, b)\n",
    "                \n",
    "        w = w - alpha * dj_dw\n",
    "        b = b - alpha * dj_db\n",
    "        \n",
    "        train_loss = cost_function_for_log_reg(x, y, w, b)\n",
    "        \n",
    "        val_loss = cost_function_for_log_reg(x_val, y_val, w, b)\n",
    "        \n",
    "        J_history.append(train_loss)\n",
    "        \n",
    "        J_history_val.append(val_loss)\n",
    "        \n",
    "        ax.set_xlim(0, i)    \n",
    "        ax.cla()\n",
    "        ax.plot(list(range(i+1)), J_history)\n",
    "        ax.plot(list(range(i+1)), J_history_val, color='r')\n",
    "        display(fig)    \n",
    "        clear_output(wait = True)\n",
    "        plt.pause(0.1)\n",
    "    plt.show()\n",
    "    \n",
    "    return w, b, J_history, J_history_val        "
   ]
  },
  {
   "cell_type": "code",
   "execution_count": 20,
   "id": "984d80a6",
   "metadata": {},
   "outputs": [
    {
     "name": "stdout",
     "output_type": "stream",
     "text": [
      "\n",
      "updated parameters: w:[ 0.15903958 -0.00898651  0.17149392  0.18751758 -0.12182376  0.13109463\n",
      "  0.26797357  0.30092466 -0.1084175  -0.1842587   0.10332859 -0.12810008\n",
      "  0.09758983  0.10094492 -0.13524808  0.01723914  0.01136134  0.00787469\n",
      " -0.12242607 -0.04314621  0.2276666   0.00188472  0.22877249  0.21362916\n",
      " -0.06352218  0.1418919   0.20446703  0.30633996 -0.0183266  -0.00502417], b:-0.6516432962391704\n"
     ]
    }
   ],
   "source": [
    "w, b, loss_history, loss_history_val = gradient_descent(X_train, y_train, w, b, 10, X_val, y_val)\n",
    "print(f\"\\nupdated parameters: w:{w}, b:{b}\")"
   ]
  },
  {
   "cell_type": "code",
   "execution_count": 21,
   "id": "3891e1e5",
   "metadata": {},
   "outputs": [],
   "source": [
    "# save weights and bias in a file\n",
    "\n",
    "saved_w = np.array(w)\n",
    "np.save('weights.npy', saved_w)\n",
    "\n",
    "save_b = np.array(b)\n",
    "np.save(\"bias.npy\", save_b)"
   ]
  },
  {
   "cell_type": "code",
   "execution_count": 22,
   "id": "948d597a",
   "metadata": {},
   "outputs": [
    {
     "name": "stdout",
     "output_type": "stream",
     "text": [
      "[ 0.15903958 -0.00898651  0.17149392  0.18751758 -0.12182376  0.13109463\n",
      "  0.26797357  0.30092466 -0.1084175  -0.1842587   0.10332859 -0.12810008\n",
      "  0.09758983  0.10094492 -0.13524808  0.01723914  0.01136134  0.00787469\n",
      " -0.12242607 -0.04314621  0.2276666   0.00188472  0.22877249  0.21362916\n",
      " -0.06352218  0.1418919   0.20446703  0.30633996 -0.0183266  -0.00502417]\n",
      "-0.6516432962391704\n"
     ]
    }
   ],
   "source": [
    "weights = np.load('weights.npy')\n",
    "\n",
    "print(weights)\n",
    "bia = np.load('bias.npy')\n",
    "print(bia)"
   ]
  },
  {
   "cell_type": "code",
   "execution_count": 24,
   "id": "702ab264",
   "metadata": {},
   "outputs": [
    {
     "data": {
      "image/png": "[encoded data removed]",
      "text/plain": [
       "<Figure size 432x288 with 1 Axes>"
      ]
     },
     "metadata": {
      "needs_background": "light"
     },
     "output_type": "display_data"
    }
   ],
   "source": [
    "plt.plot(list(range(10)), loss_history)\n",
    "plt.plot(list(range(10)), loss_history_val, color='r')\n",
    "\n",
    "plt.show()"
   ]
  },
  {
   "cell_type": "code",
   "execution_count": 25,
   "id": "cf53c5b5",
   "metadata": {},
   "outputs": [
    {
     "name": "stdout",
     "output_type": "stream",
     "text": [
      "(46, 30)\n",
      "(46,)\n",
      "0.5235473356004169\n"
     ]
    }
   ],
   "source": [
    "check = cost_function_for_log_reg(X_val, y_val, weights, bia)\n",
    "print(X_val.shape)\n",
    "print(y_val.shape)\n",
    "print(check)"
   ]
  },
  {
   "cell_type": "code",
   "execution_count": 26,
   "id": "ad1b6912",
   "metadata": {},
   "outputs": [
    {
     "name": "stdout",
     "output_type": "stream",
     "text": [
      "[0.3402419  0.40958916 0.37589144 0.45143265 0.37847955 0.40854933\n",
      " 0.30965002 0.47421477 0.45443936 0.39085727 0.38100521 0.4989046\n",
      " 0.39347836 0.69946234 0.37897758 0.33682405 0.42297855 0.42581873\n",
      " 0.56308926 0.59759874 0.30267765 0.35594864 0.73954964 0.44568997\n",
      " 0.34775082 0.68026478 0.27157646 0.40283019 0.33163447 0.48566744\n",
      " 0.54502058 0.43226292 0.43810811 0.55143079 0.4302599  0.46871056\n",
      " 0.49360307 0.47017444 0.37341997 0.41729606 0.4234859  0.35425658\n",
      " 0.54218729 0.3854748  0.61483428 0.40120734]\n"
     ]
    }
   ],
   "source": [
    "sigmoid_out = sigmoid_function(X_val, w, b)\n",
    "# print(w)\n",
    "# print(b)\n",
    "print(sigmoid_out)"
   ]
  },
  {
   "cell_type": "code",
   "execution_count": 27,
   "id": "5edc3b0d",
   "metadata": {},
   "outputs": [],
   "source": [
    "#calculate accuracy \n",
    "#The F measure (F1 score or F score) is a measure of a test’s accuracy and \n",
    "#is defined as the weighted harmonic mean of the precision and recall of the test.\n",
    "\n",
    "pred_malignant = []\n",
    "\n",
    "\n",
    "for pred in sigmoid_out:\n",
    "    \n",
    "    if pred >= 0.5:\n",
    "        pred_malignant.append(1)\n",
    "    else:\n",
    "        pred_malignant.append(0)        "
   ]
  },
  {
   "cell_type": "code",
   "execution_count": 28,
   "id": "9c73b18a",
   "metadata": {},
   "outputs": [
    {
     "name": "stdout",
     "output_type": "stream",
     "text": [
      "[0, 0, 0, 0, 0, 0, 0, 0, 0, 0, 0, 0, 0, 1, 0, 0, 0, 0, 1, 1, 0, 0, 1, 0, 0, 1, 0, 0, 0, 0, 1, 0, 0, 1, 0, 0, 0, 0, 0, 0, 0, 0, 1, 0, 1, 0]\n"
     ]
    }
   ],
   "source": [
    "print(pred_malignant)"
   ]
  },
  {
   "cell_type": "code",
   "execution_count": 29,
   "id": "65c2677f",
   "metadata": {},
   "outputs": [
    {
     "name": "stdout",
     "output_type": "stream",
     "text": [
      "41 5\n",
      "0.8913043478260869 46\n"
     ]
    }
   ],
   "source": [
    "s = 0\n",
    "n = 0\n",
    "\n",
    "for i, j in zip(pred_malignant, y_val):\n",
    "    if i==j:\n",
    "        s += 1\n",
    "    else:\n",
    "        n += 1\n",
    "        \n",
    "        \n",
    "print(s, n)     \n",
    "accuracy = s/len(y_val)\n",
    "print(accuracy, len(y_val))"
   ]
  },
  {
   "cell_type": "code",
   "execution_count": 30,
   "id": "d6019e16",
   "metadata": {},
   "outputs": [
    {
     "name": "stdout",
     "output_type": "stream",
     "text": [
      "9\n",
      "14\n"
     ]
    }
   ],
   "source": [
    "total_pred_pos = pred_malignant.count(1)\n",
    "print(total_pred_pos)\n",
    "\n",
    "total_actual_pos = list(y_val).count(1)\n",
    "print(total_actual_pos)"
   ]
  },
  {
   "cell_type": "code",
   "execution_count": 31,
   "id": "90b6b2cd",
   "metadata": {},
   "outputs": [
    {
     "name": "stdout",
     "output_type": "stream",
     "text": [
      "9\n"
     ]
    }
   ],
   "source": [
    "true_pos = 0\n",
    "\n",
    "for i, j in zip(pred_malignant, y_val):\n",
    "    # if i==1 and j==1:\n",
    "        \n",
    "    if i==j==1:\n",
    "        true_pos += 1\n",
    "        \n",
    "print(true_pos)"
   ]
  },
  {
   "cell_type": "code",
   "execution_count": 36,
   "id": "4e575862",
   "metadata": {},
   "outputs": [
    {
     "name": "stdout",
     "output_type": "stream",
     "text": [
      "1.0 0.6428571428571429\n",
      "F1-Score: 0.782608695652174\n"
     ]
    }
   ],
   "source": [
    "precision = true_pos/total_pred_pos\n",
    "recall = true_pos/total_actual_pos\n",
    "\n",
    "print(precision, recall)\n",
    "\n",
    "f1_score = 2*precision*recall / (precision + recall)\n",
    "print(f\"F1-Score: {f1_score}\")"
   ]
  },
  {
   "cell_type": "code",
   "execution_count": 37,
   "id": "2c6ad42d",
   "metadata": {},
   "outputs": [
    {
     "name": "stdout",
     "output_type": "stream",
     "text": [
      "[[ 1.67527895  1.40946049  1.65631057  1.4116837   0.53098346  0.51043487\n",
      "   1.33462446  1.85161683  0.27267678 -0.70738409  0.931408   -0.17810154\n",
      "   0.73007178  0.65938434  0.09638498 -0.40648818 -0.1437661   0.28017182\n",
      "  -0.15113491 -0.54085068  2.21053984  1.87552759  2.02910272  1.60126492\n",
      "   1.43343027  0.84066251  1.30096419  2.53491436  1.08494063  0.34900968]]\n",
      "0.9633251833740831\n",
      "0.9782608695652174\n"
     ]
    }
   ],
   "source": [
    "from sklearn.linear_model import LogisticRegression\n",
    "clf = LogisticRegression(random_state=0, max_iter=1000).fit(X_train, y_train)\n",
    "print(clf.coef_)\n",
    "print(clf.score(X_train, y_train))\n",
    "print(clf.score(X_val, y_val))"
   ]
  },
  {
   "cell_type": "code",
   "execution_count": 38,
   "id": "c0817d04",
   "metadata": {},
   "outputs": [
    {
     "name": "stdout",
     "output_type": "stream",
     "text": [
      "[ 0.15903958 -0.00898651  0.17149392  0.18751758 -0.12182376  0.13109463\n",
      "  0.26797357  0.30092466 -0.1084175  -0.1842587   0.10332859 -0.12810008\n",
      "  0.09758983  0.10094492 -0.13524808  0.01723914  0.01136134  0.00787469\n",
      " -0.12242607 -0.04314621  0.2276666   0.00188472  0.22877249  0.21362916\n",
      " -0.06352218  0.1418919   0.20446703  0.30633996 -0.0183266  -0.00502417]\n"
     ]
    }
   ],
   "source": [
    "print(weights)"
   ]
  },
  {
   "cell_type": "code",
   "execution_count": 39,
   "id": "db0175f5",
   "metadata": {},
   "outputs": [
    {
     "name": "stdout",
     "output_type": "stream",
     "text": [
      "[0.1590395801149324, -0.008986510866634975, 0.1714939188680011, 0.1875175762777574, -0.12182375546096011, 0.13109463187788842, 0.26797356976257614, 0.3009246602828799, -0.10841749851993641, -0.1842587035774199, 0.10332859371636816, -0.1281000805898496, 0.09758983372335053, 0.10094491884456187, -0.1352480849160319, 0.017239136369949726, 0.011361336034900525, 0.00787469317030515, -0.12242606548953625, -0.04314621101848817, 0.22766659868742328, 0.0018847166587890635, 0.22877248857792012, 0.21362916302583618, -0.06352218193057717, 0.14189189784566014, 0.2044670285273164, 0.30633995533259556, -0.018326595377882813, -0.005024173929181971]\n"
     ]
    }
   ],
   "source": [
    "#Feature importance obtained from coefficients \n",
    "\n",
    "l = list(weights)\n",
    "print(l)\n"
   ]
  },
  {
   "cell_type": "code",
   "execution_count": 40,
   "id": "09afcbd5",
   "metadata": {},
   "outputs": [
    {
     "name": "stdout",
     "output_type": "stream",
     "text": [
      "                    Feature     Coeff\n",
      "9    fractal_dimension_mean -0.184259\n",
      "14            smoothness_se -0.135248\n",
      "11               texture_se -0.128100\n",
      "18              symmetry_se -0.122426\n",
      "4           smoothness_mean -0.121824\n",
      "8             symmetry_mean -0.108417\n",
      "24         smoothness_worst -0.063522\n",
      "19     fractal_dimension_se -0.043146\n",
      "28           symmetry_worst -0.018327\n",
      "1              texture_mean -0.008987\n",
      "29  fractal_dimension_worst -0.005024\n",
      "21            texture_worst  0.001885\n",
      "17        concave points_se  0.007875\n",
      "16             concavity_se  0.011361\n",
      "15           compactness_se  0.017239\n",
      "12             perimeter_se  0.097590\n",
      "13                  area_se  0.100945\n",
      "10                radius_se  0.103329\n",
      "5          compactness_mean  0.131095\n",
      "25        compactness_worst  0.141892\n",
      "0               radius_mean  0.159040\n",
      "2            perimeter_mean  0.171494\n",
      "3                 area_mean  0.187518\n",
      "26          concavity_worst  0.204467\n",
      "23               area_worst  0.213629\n",
      "20             radius_worst  0.227667\n",
      "22          perimeter_worst  0.228772\n",
      "6            concavity_mean  0.267974\n",
      "7       concave points_mean  0.300925\n",
      "27     concave points_worst  0.306340\n"
     ]
    }
   ],
   "source": [
    "d = pd.DataFrame({\"Feature\": x_features.columns, \"Coeff\": l})\n",
    "print(d.sort_values(by = \"Coeff\", ascending=True))"
   ]
  },
  {
   "cell_type": "code",
   "execution_count": null,
   "id": "5518fb76",
   "metadata": {},
   "outputs": [],
   "source": []
  },
  {
   "cell_type": "code",
   "execution_count": null,
   "id": "1dcb3422",
   "metadata": {},
   "outputs": [],
   "source": []
  }
 ],
 "metadata": {
  "kernelspec": {
   "display_name": "Python 3 (ipykernel)",
   "language": "python",
   "name": "python3"
  },
  "language_info": {
   "codemirror_mode": {
    "name": "ipython",
    "version": 3
   },
   "file_extension": ".py",
   "mimetype": "text/x-python",
   "name": "python",
   "nbconvert_exporter": "python",
   "pygments_lexer": "ipython3",
   "version": "3.9.7"
  }
 },
 "nbformat": 4,
 "nbformat_minor": 5
}
